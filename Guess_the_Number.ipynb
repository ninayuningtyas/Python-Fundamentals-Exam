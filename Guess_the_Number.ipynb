{
  "nbformat": 4,
  "nbformat_minor": 0,
  "metadata": {
    "colab": {
      "provenance": []
    },
    "kernelspec": {
      "name": "python3",
      "display_name": "Python 3"
    },
    "language_info": {
      "name": "python"
    }
  },
  "cells": [
    {
      "cell_type": "code",
      "execution_count": 4,
      "metadata": {
        "colab": {
          "base_uri": "https://localhost:8080/"
        },
        "id": "777vXqkB9iEv",
        "outputId": "5c4ce9f9-bd8a-4c63-ff7a-f6b652dcda43"
      },
      "outputs": [
        {
          "output_type": "stream",
          "name": "stdout",
          "text": [
            "Guess the number (between 1 and 100): 22\n",
            "Too high. Try again.\n",
            "Guess the number (between 1 and 100): 9\n",
            "Too low. Try again.\n",
            "Guess the number (between 1 and 100): 10\n",
            "Too low. Try again.\n",
            "Guess the number (between 1 and 100): 15\n",
            "Too low. Try again.\n",
            "Guess the number (between 1 and 100): 20\n",
            "Too low. Try again.\n",
            "Guess the number (between 1 and 100): 21\n",
            "Congratulations! You guessed the correct number.\n"
          ]
        }
      ],
      "source": [
        "import random\n",
        "\n",
        "def guess_the_number():\n",
        "    # Generate a random number between 1 and 100\n",
        "    secret_number = random.randint(1, 100)\n",
        "\n",
        "    while True:\n",
        "        try:\n",
        "            # Ask the user to input their guess\n",
        "            guess = int(input(\"Guess the number (between 1 and 100): \"))\n",
        "\n",
        "            # Check if the guess is correct\n",
        "            if guess == secret_number:\n",
        "                print(\"Congratulations! You guessed the correct number.\")\n",
        "                break\n",
        "            elif guess < secret_number:\n",
        "                print(\"Too low. Try again.\")\n",
        "            else:\n",
        "                print(\"Too high. Try again.\")\n",
        "\n",
        "        except ValueError:\n",
        "            print(\"Invalid input. Please enter a valid number.\")\n",
        "\n",
        "if __name__ == \"__main__\":\n",
        "    guess_the_number()\n"
      ]
    }
  ]
}